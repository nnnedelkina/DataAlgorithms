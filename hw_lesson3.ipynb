{
 "cells": [
  {
   "cell_type": "code",
   "execution_count": 1,
   "metadata": {},
   "outputs": [],
   "source": [
    "import numpy as np\n",
    "import matplotlib.pyplot as plt\n",
    "\n",
    "from sklearn.preprocessing import MinMaxScaler\n",
    "from sklearn.linear_model import LinearRegression\n",
    "from sklearn.metrics import mean_squared_error\n",
    "from sklearn import datasets\n",
    "from matplotlib.colors import ListedColormap\n",
    "\n",
    "np.set_printoptions(precision=3, suppress=True)\n",
    "\n"
   ]
  },
  {
   "cell_type": "code",
   "execution_count": 2,
   "metadata": {},
   "outputs": [],
   "source": [
    "# сгеренируем данные с помощью sklearn.datasets\n",
    "classes = datasets.make_classification(n_samples=100, n_features=2, n_informative=2,\n",
    "                                       n_redundant=0, n_classes=2, random_state=1)\n",
    "# datasets.make_blobs(centers = 2, cluster_std = 1.5, random_state=12)\n",
    "\n"
   ]
  },
  {
   "cell_type": "code",
   "execution_count": 3,
   "metadata": {},
   "outputs": [
    {
     "name": "stdout",
     "output_type": "stream",
     "text": [
      "Размер массива признаков обучающей выборки (3, 50)\n",
      "Размер массива признаков тестовой выборки (3, 50)\n",
      "Размер массива ответов для обучающей выборки (1, 50)\n",
      "Размер массива ответов для тестовой выборки (1, 50)\n"
     ]
    }
   ],
   "source": [
    "# перемешивание датасета\n",
    "np.random.seed(12)\n",
    "shuffle_index = np.random.permutation(classes[0].shape[0])\n",
    "X_shuffled, y_shuffled = classes[0][shuffle_index], classes[1][shuffle_index]\n",
    "\n",
    "#Добавляем единицы для смещения w2\n",
    "X_shuffled = np.c_[X_shuffled, np.ones(X_shuffled.shape[0])]\n",
    "\n",
    "# разбивка на обучающую и тестовую выборки\n",
    "train_proportion = 0.5\n",
    "train_test_cut = int(len(classes[0]) * train_proportion)\n",
    "\n",
    "X_train, X_test, y_train, y_test = \\\n",
    "    X_shuffled[:train_test_cut], \\\n",
    "    X_shuffled[train_test_cut:], \\\n",
    "    y_shuffled[:train_test_cut], \\\n",
    "    y_shuffled[train_test_cut:]\n",
    "\n",
    "X_train_tr = X_train.transpose()\n",
    "y_train_tr = y_train.reshape(1, y_train.shape[0])\n",
    "X_test_tr = X_test.transpose()\n",
    "y_test_tr = y_test.reshape(1, y_test.shape[0])\n",
    "    \n",
    "print(\"Размер массива признаков обучающей выборки\", X_train_tr.shape)\n",
    "print(\"Размер массива признаков тестовой выборки\", X_test_tr.shape)\n",
    "print(\"Размер массива ответов для обучающей выборки\", y_train_tr.shape)\n",
    "print(\"Размер массива ответов для тестовой выборки\", y_test_tr.shape)\n"
   ]
  },
  {
   "cell_type": "code",
   "execution_count": 4,
   "metadata": {},
   "outputs": [],
   "source": [
    "def calc_logloss(y, y_pred):\n",
    "    d0 = 1e-4 # чтобы избежать 0 в np.log просто добавим очень малое число. Функция останется монотонной и определенной на [0, inf)\n",
    "    err = - np.mean(y * np.log(y_pred + d0) + (1.0 - y) * np.log(1.0 - y_pred + d0))\n",
    "    return err"
   ]
  },
  {
   "cell_type": "code",
   "execution_count": 5,
   "metadata": {},
   "outputs": [],
   "source": [
    "def sigmoid(z):\n",
    "    res = 1 / (1 + np.exp(-z))\n",
    "    return res"
   ]
  },
  {
   "cell_type": "code",
   "execution_count": 6,
   "metadata": {},
   "outputs": [],
   "source": [
    "def train_model(X, y, iterations, alpha=1e-4):\n",
    "    np.random.seed(42)\n",
    "    W = np.random.randn(1, X.shape[0])\n",
    "    n = X.shape[1]\n",
    "    for i in range(1, iterations+1):\n",
    "        z = W.dot(X)\n",
    "        y_pred = sigmoid(z)\n",
    "        err = calc_logloss(y, y_pred)\n",
    "        W -= alpha * (1/n * (y_pred - y).dot(X.T))\n",
    "#        if i % (iterations / 10) == 0:\n",
    "#    print(i, W, err)\n",
    "    return W, err"
   ]
  },
  {
   "cell_type": "code",
   "execution_count": null,
   "metadata": {},
   "outputs": [],
   "source": []
  },
  {
   "cell_type": "code",
   "execution_count": 7,
   "metadata": {},
   "outputs": [
    {
     "name": "stdout",
     "output_type": "stream",
     "text": [
      "n_iter = 1000, alpha = 0.5, log_loss=0.03910646421150212, W= [[6.892 0.237 2.344]]\n",
      "n_iter = 1000, alpha = 0.1, log_loss=0.05815811618806649, W= [[4.63  0.305 1.021]]\n",
      "n_iter = 1000, alpha = 0.01, log_loss=0.15525224315311711, W= [[2.208 0.106 0.346]]\n",
      "n_iter = 1000, alpha = 0.001, log_loss=0.40844092557861833, W= [[ 0.822 -0.068  0.541]]\n",
      "n_iter = 10000, alpha = 0.5, log_loss=0.019897162821299816, W= [[14.406 -0.303  6.855]]\n",
      "n_iter = 10000, alpha = 0.1, log_loss=0.03305179594842248, W= [[8.35  0.126 3.263]]\n",
      "n_iter = 10000, alpha = 0.01, log_loss=0.058166050437743054, W= [[4.629 0.305 1.02 ]]\n",
      "n_iter = 10000, alpha = 0.001, log_loss=0.15522793683586175, W= [[2.207 0.106 0.346]]\n",
      "n_iter = 100000, alpha = 0.5, log_loss=0.004410426061070823, W= [[35.548 -1.641 18.521]]\n",
      "n_iter = 100000, alpha = 0.1, log_loss=0.014409353896407457, W= [[18.936 -0.609  9.409]]\n",
      "n_iter = 100000, alpha = 0.01, log_loss=0.03305275610566952, W= [[8.349 0.126 3.263]]\n",
      "n_iter = 100000, alpha = 0.001, log_loss=0.058166838389152986, W= [[4.628 0.305 1.02 ]]\n",
      "Best: n_iter = 100000, alpha = 0.5, log_loss=0.004410426061070823, W= [[35.548 -1.641 18.521]]\n"
     ]
    }
   ],
   "source": [
    "alpha_best = None\n",
    "n_iter_best = None\n",
    "err_best = 100\n",
    "for n_iter in [1000, 10000, 100000]:\n",
    "    for alpha in [0.5, 0.1, 0.01, 0.001]:\n",
    "        W, err = train_model(X_train_tr, y_train_tr, n_iter, alpha)\n",
    "        print(f'n_iter = {n_iter}, alpha = {alpha}, log_loss={err}, W=', W)\n",
    "        if err < err_best * 0.99:\n",
    "            alpha_best = alpha\n",
    "            n_iter_best = n_iter\n",
    "            err_best = err\n",
    "#наилучший результат:\n",
    "W, err = train_model(X_train_tr, y_train_tr, n_iter_best, alpha_best)\n",
    "print(f'Best: n_iter = {n_iter_best}, alpha = {alpha_best}, log_loss={err_best}, W=', W)\n"
   ]
  },
  {
   "cell_type": "code",
   "execution_count": 8,
   "metadata": {},
   "outputs": [
    {
     "data": {
      "image/png": "[encoded data removed]",
      "text/plain": [
       "<Figure size 576x576 with 1 Axes>"
      ]
     },
     "metadata": {
      "needs_background": "light"
     },
     "output_type": "display_data"
    },
    {
     "data": {
      "image/png": "[encoded data removed]",
      "text/plain": [
       "<Figure size 576x576 with 1 Axes>"
      ]
     },
     "metadata": {
      "needs_background": "light"
     },
     "output_type": "display_data"
    }
   ],
   "source": [
    "def draw_dots(X, y, W = None):\n",
    "    colors = ListedColormap(['red', 'blue'])\n",
    "    plt.figure(figsize=(8, 8))\n",
    "    plt.scatter(X[0], X[1], c=y[0], cmap=colors)\n",
    "    if W is not None:\n",
    "        p = np.array([-W[0][1], W[0][0]]) # w0*p0 + w1*p1 + w2 = 0\n",
    "        r = 2.3\n",
    "        w20 = np.array([0.5 * W[0][2] / W[0][0], 0.5 * W[0][2] / W[0][1]]) if len(W[0]) > 2 else 0.\n",
    "        p = np.array([-r * p - w20, r * p - w20]).T\n",
    "        plt.plot(p[0], p[1])\n",
    "        plt.xlim(-2, 2)\n",
    "        plt.ylim(-2, 2)\n",
    "        \n",
    "draw_dots(X_train_tr, y_train_tr, W)\n",
    "draw_dots(X_test_tr, y_test_tr, W)"
   ]
  },
  {
   "cell_type": "code",
   "execution_count": 9,
   "metadata": {},
   "outputs": [],
   "source": [
    "def calc_pred_proba(w, X):\n",
    "    return sigmoid(w.dot(X))"
   ]
  },
  {
   "cell_type": "code",
   "execution_count": 10,
   "metadata": {},
   "outputs": [
    {
     "data": {
      "text/plain": [
       "array([[1.   , 1.   , 0.   , 0.   , 0.   , 0.   , 0.   , 0.   , 1.   ,\n",
       "        1.   , 1.   , 0.286, 0.   , 0.   , 0.078, 0.003, 1.   , 1.   ,\n",
       "        1.   , 0.   , 0.   , 1.   , 0.   , 0.724, 0.   , 1.   , 1.   ,\n",
       "        1.   , 1.   , 1.   , 0.   , 1.   , 0.993, 1.   , 1.   , 0.   ,\n",
       "        0.063, 0.   , 1.   , 1.   , 1.   , 0.   , 0.   , 0.   , 1.   ,\n",
       "        0.008, 0.   , 1.   , 0.024, 1.   ]])"
      ]
     },
     "execution_count": 10,
     "metadata": {},
     "output_type": "execute_result"
    }
   ],
   "source": [
    "calc_pred_proba(W, X_test_tr)"
   ]
  },
  {
   "cell_type": "code",
   "execution_count": 11,
   "metadata": {},
   "outputs": [],
   "source": [
    "def calc_pred(w, X):\n",
    "    return np.round(sigmoid(w.dot(X)))"
   ]
  },
  {
   "cell_type": "code",
   "execution_count": 12,
   "metadata": {},
   "outputs": [],
   "source": [
    "y_pred = calc_pred(W, X_test_tr)"
   ]
  },
  {
   "cell_type": "code",
   "execution_count": 13,
   "metadata": {},
   "outputs": [],
   "source": [
    "#y_train_pred = calc_pred(W, X_train_tr)\n",
    "#np.c_[y_train_pred.T, y_train.T]"
   ]
  },
  {
   "cell_type": "code",
   "execution_count": 14,
   "metadata": {},
   "outputs": [],
   "source": [
    "def accuracy(y_pred, y):\n",
    "    a = np.sum((y_pred == y) * 1)/y_pred.shape[1]\n",
    "    return a"
   ]
  },
  {
   "cell_type": "code",
   "execution_count": null,
   "metadata": {},
   "outputs": [],
   "source": []
  },
  {
   "cell_type": "code",
   "execution_count": 15,
   "metadata": {},
   "outputs": [],
   "source": [
    "def error_matrix(y_pred, y):\n",
    "    TP = np.sum(((y_pred == 1) & (y == 1)) * 1)\n",
    "    FP = np.sum(((y_pred == 1) & (y == 0)) * 1)\n",
    "    FN = np.sum(((y_pred == 0) & (y == 1)) * 1)\n",
    "    TN = np.sum(((y_pred == 0) & (y == 0)) * 1)\n",
    "    return np.array([[TP, FP], [FN, TN]])"
   ]
  },
  {
   "cell_type": "code",
   "execution_count": null,
   "metadata": {},
   "outputs": [],
   "source": []
  },
  {
   "cell_type": "code",
   "execution_count": 16,
   "metadata": {},
   "outputs": [],
   "source": [
    "def precision(e_m):\n",
    "    return e_m[0][0] / (e_m[0][0] + e_m[0][1])"
   ]
  },
  {
   "cell_type": "code",
   "execution_count": 17,
   "metadata": {},
   "outputs": [],
   "source": [
    "def recall(e_m):\n",
    "    return e_m[0][0] / (e_m[0][0] + e_m[1][0])"
   ]
  },
  {
   "cell_type": "code",
   "execution_count": 18,
   "metadata": {},
   "outputs": [],
   "source": [
    "def F_b(e_m, b = 1):\n",
    "    pr = precision(e_m)\n",
    "    rc = recall(e_m)\n",
    "    return (1 + b * b) * pr * rc / (b * b * pr + rc)"
   ]
  },
  {
   "cell_type": "code",
   "execution_count": 19,
   "metadata": {},
   "outputs": [],
   "source": [
    "def print_metrics(y_pred, y):\n",
    "    print(f\"Доля правильных ответов: {accuracy(y_pred, y_test_tr):0.3f}\")\n",
    "    e_m = error_matrix(y_pred, y)\n",
    "    print(\"Матрица ошибок: \\n\", e_m)\n",
    "    print(f\"Точность: {precision(e_m):0.3f}\")\n",
    "    print(f\"Полнота: {recall(e_m):0.3f}\")\n",
    "    print(f\"F1: {F_b(e_m):0.3f}\")"
   ]
  },
  {
   "cell_type": "code",
   "execution_count": 20,
   "metadata": {},
   "outputs": [
    {
     "name": "stdout",
     "output_type": "stream",
     "text": [
      "------------------------------\n",
      "Тренировочная выборка\n",
      "Доля правильных ответов: 0.600\n",
      "Матрица ошибок: \n",
      " [[26  0]\n",
      " [ 0 24]]\n",
      "Точность: 1.000\n",
      "Полнота: 1.000\n",
      "F1: 1.000\n",
      "------------------------------\n",
      "Тестовая выборка\n",
      "Доля правильных ответов: 0.980\n",
      "Матрица ошибок: \n",
      " [[24  1]\n",
      " [ 0 25]]\n",
      "Точность: 0.960\n",
      "Полнота: 1.000\n",
      "F1: 0.980\n"
     ]
    }
   ],
   "source": [
    "print(\"------------------------------\")\n",
    "print(\"Тренировочная выборка\")\n",
    "print_metrics(calc_pred(W, X_train_tr), y_train_tr)\n",
    "print(\"------------------------------\")\n",
    "print(\"Тестовая выборка\")\n",
    "print_metrics(y_pred, y_test_tr)"
   ]
  },
  {
   "cell_type": "markdown",
   "metadata": {},
   "source": [
    "# Выводы\n",
    "* Все метрики посчитаны, результат на тестовой выборке получился ожидаемо хуже, чем на тренировочноый\n",
    "* Добавление смещения w2 позволило отвести разделяющую прямую от точки (0, 0) и построить лучшую модель, которая идеально разделило тренировочную выборку. Но тестовую выборку разделить прямой не получится.\n",
    "* Не могу представить себе переобучение такой модели с разделяющей прямой (плоскостью). Прямая останется прямой. Поэтому регуляризацию не делала. Но переобучение будет возможно, если разделяющая будет кривой. Для этого, видимо, надо добавить произведения и степени признаков. Может, попробую попозже, может и с регуляризацией. "
   ]
  },
  {
   "cell_type": "code",
   "execution_count": null,
   "metadata": {},
   "outputs": [],
   "source": []
  }
 ],
 "metadata": {
  "kernelspec": {
   "display_name": "Python 3",
   "language": "python",
   "name": "python3"
  },
  "language_info": {
   "codemirror_mode": {
    "name": "ipython",
    "version": 3
   },
   "file_extension": ".py",
   "mimetype": "text/x-python",
   "name": "python",
   "nbconvert_exporter": "python",
   "pygments_lexer": "ipython3",
   "version": "3.7.6"
  }
 },
 "nbformat": 4,
 "nbformat_minor": 4
}
