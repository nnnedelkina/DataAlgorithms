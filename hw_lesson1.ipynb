{
 "cells": [
  {
   "cell_type": "code",
   "execution_count": 1,
   "metadata": {},
   "outputs": [],
   "source": [
    "import numpy as np\n",
    "import matplotlib.pyplot as plt"
   ]
  },
  {
   "cell_type": "code",
   "execution_count": 2,
   "metadata": {},
   "outputs": [],
   "source": [
    "y = [45, 55, 50, 59, 65, 35, 75, 80, 50, 60]"
   ]
  },
  {
   "cell_type": "code",
   "execution_count": 3,
   "metadata": {},
   "outputs": [],
   "source": [
    "X = np.array([[1, 1, 1, 1, 1, 1, 1, 1, 1, 1],\n",
    "              [1, 1, 2, 1, 3, 0, 5, 10, 1, 2]])\n",
    "n = X.shape[1]"
   ]
  },
  {
   "cell_type": "code",
   "execution_count": 4,
   "metadata": {},
   "outputs": [],
   "source": [
    "def calc_mse(y, y_pred):\n",
    "    err = np.mean((y - y_pred)**2)\n",
    "    return err"
   ]
  },
  {
   "cell_type": "code",
   "execution_count": 5,
   "metadata": {},
   "outputs": [
    {
     "name": "stdout",
     "output_type": "stream",
     "text": [
      "alpha = 0.06, число итераций: 200, W =  [47.23203087  3.91073496]\n",
      "alpha = 0.05, число итераций: 239, W =  [47.23201614  3.91073768]\n",
      "alpha = 0.02, число итераций: 584, W =  [47.23193657  3.91075238]\n",
      "alpha = 0.01, число итераций: 1140, W =  [47.23184803  3.91076873]\n",
      "alpha = 0.008, число итераций: 1413, W =  [47.23181285  3.91077522]\n",
      "alpha = 0.005, число итераций: 2218, W =  [47.23172267  3.91079188]\n",
      "alpha = 0.001, число итераций: 10335, W =  [47.23119877  3.91088862]\n",
      "alpha = 0.0005, число итераций: 20007, W =  [47.23080638  3.91096108]\n",
      "alpha = 1e-05, число итераций: 99999, W =  [31.64193264  6.78956586]\n"
     ]
    }
   ],
   "source": [
    "for alpha in [0.06, 0.05, 0.02, 0.01, 0.008, 0.005, 0.001, 0.0005, 0.00001]:\n",
    "    err = 0\n",
    "    W = np.array([1, 0.5])\n",
    "    for i in range(100000):\n",
    "        y_pred = np.dot(W, X)\n",
    "        err2 = calc_mse(y, y_pred)\n",
    "        if abs(err2 - err) < 1e-9:\n",
    "            break\n",
    "        err = err2\n",
    "        '''for ii in range(W.shape[0]):\n",
    "        W[ii] -= alpha * (1/n * 2 * np.sum(X[ii] * (y_pred - y)))'''\n",
    "#       W -= (alpha * (1/n * 2 * np.sum(X * (y_pred - y))))\n",
    "        D = alpha * 1/n * 2 * X.dot(y_pred - y)\n",
    "        #print(D)\n",
    "        W -= D\n",
    "#        if i % 100 == 0:\n",
    "#            print(i, W, err)\n",
    "    print(f\"alpha = {alpha}, число итераций: {i}, W = \", W)"
   ]
  },
  {
   "cell_type": "markdown",
   "metadata": {},
   "source": [
    "### Выводы:\n",
    "1. Ошибка в коде в том, что np.sum(X * (y_pred - y)) возвращает скаляр, а не вектор. Для матричного умножения нужен dot\n",
    "2. Подобрано наилучшее значение alpha = 0.06 и число итераций = 200.\n",
    "3. При значении alpha = 0.07 алгоритм расходится"
   ]
  },
  {
   "cell_type": "markdown",
   "metadata": {},
   "source": [
    "### точное решение"
   ]
  },
  {
   "cell_type": "code",
   "execution_count": 6,
   "metadata": {},
   "outputs": [
    {
     "data": {
      "text/plain": [
       "array([47.23214286,  3.91071429])"
      ]
     },
     "execution_count": 6,
     "metadata": {},
     "output_type": "execute_result"
    }
   ],
   "source": [
    "np.linalg.inv(X.dot(X.T)).dot(X.dot(y))"
   ]
  },
  {
   "cell_type": "code",
   "execution_count": null,
   "metadata": {},
   "outputs": [],
   "source": []
  }
 ],
 "metadata": {
  "kernelspec": {
   "display_name": "Python 3",
   "language": "python",
   "name": "python3"
  },
  "language_info": {
   "codemirror_mode": {
    "name": "ipython",
    "version": 3
   },
   "file_extension": ".py",
   "mimetype": "text/x-python",
   "name": "python",
   "nbconvert_exporter": "python",
   "pygments_lexer": "ipython3",
   "version": "3.7.6"
  }
 },
 "nbformat": 4,
 "nbformat_minor": 4
}
