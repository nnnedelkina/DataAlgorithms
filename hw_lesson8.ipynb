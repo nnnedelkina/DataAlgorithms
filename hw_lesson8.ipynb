{
 "cells": [
  {
   "cell_type": "code",
   "execution_count": 1,
   "metadata": {},
   "outputs": [],
   "source": [
    "import numpy as np\n",
    "from sklearn import datasets\n",
    "from sklearn import model_selection\n",
    "import matplotlib.pyplot as plt"
   ]
  },
  {
   "cell_type": "code",
   "execution_count": 2,
   "metadata": {},
   "outputs": [
    {
     "data": {
      "text/plain": [
       "(150, 4)"
      ]
     },
     "execution_count": 2,
     "metadata": {},
     "output_type": "execute_result"
    }
   ],
   "source": [
    "# Загрузим игрушечный датасет из sklearn\n",
    "iris = datasets.load_iris()\n",
    "X = iris.data\n",
    "X.shape"
   ]
  },
  {
   "cell_type": "code",
   "execution_count": 3,
   "metadata": {},
   "outputs": [],
   "source": [
    "# Для начала отмасштабируем выборку\n",
    "X_ = X.astype(float)\n",
    "\n",
    "rows, cols = X_.shape\n",
    "\n",
    "# центрирование - вычитание из каждого значения среднего по строке\n",
    "means = X_.mean(0)\n",
    "for i in range(rows):\n",
    "    for j in range(cols):\n",
    "        X_[i, j] -= means[j]\n",
    "\n",
    "# деление каждого значения на стандартное отклонение\n",
    "std = np.std(X_, axis=0)\n",
    "for i in range(cols):\n",
    "    for j in range(rows):\n",
    "        X_[j][i] /= std[i]"
   ]
  },
  {
   "cell_type": "code",
   "execution_count": 4,
   "metadata": {},
   "outputs": [
    {
     "name": "stdout",
     "output_type": "stream",
     "text": [
      "Собственные значения в порядке убывания:\n",
      "437.7746724797988\n",
      "137.10457072021055\n",
      "22.013531335697195\n",
      "3.107225464292886\n",
      "Ковариационная матрица:\n",
      "[[150.         -17.63546762 130.76306638 122.69116894]\n",
      " [-17.63546762 150.         -64.26601565 -54.91888988]\n",
      " [130.76306638 -64.26601565 150.         144.42981471]\n",
      " [122.69116894 -54.91888988 144.42981471 150.        ]]\n"
     ]
    }
   ],
   "source": [
    "# Найдем собственные векторы и собственные значения\n",
    " \n",
    "covariance_matrix = X_.T.dot(X_)\n",
    "\n",
    "eig_values, eig_vectors = np.linalg.eig(covariance_matrix)\n",
    "\n",
    "# сформируем список кортежей (собственное значение, собственный вектор)\n",
    "eig_pairs = [(np.abs(eig_values[i]), eig_vectors[:, i]) for i in range(len(eig_values))]\n",
    "\n",
    "# и отсортируем список по убыванию собственных значений\n",
    "eig_pairs.sort(key=lambda x: x[0], reverse=True)\n",
    "\n",
    "print('Собственные значения в порядке убывания:')\n",
    "for i in eig_pairs:\n",
    "    print(i[0])\n",
    "\n",
    "print('Ковариационная матрица:')\n",
    "print(covariance_matrix)"
   ]
  },
  {
   "cell_type": "code",
   "execution_count": 5,
   "metadata": {},
   "outputs": [
    {
     "name": "stdout",
     "output_type": "stream",
     "text": [
      "Доля дисперсии, описываемая каждой из компонент \n",
      "[72.96244541329987, 22.850761786701778, 3.6689218892828697, 0.5178709107154814]\n",
      "Кумулятивная доля дисперсии по компонентам \n",
      "[ 72.96244541  95.8132072   99.48212909 100.        ]\n"
     ]
    }
   ],
   "source": [
    "eig_sum = sum(eig_values)\n",
    "var_exp = [(i / eig_sum) * 100 for i in sorted(eig_values, reverse=True)]\n",
    "cum_var_exp = np.cumsum(var_exp)\n",
    "print(f'Доля дисперсии, описываемая каждой из компонент \\n{var_exp}')\n",
    "\n",
    "# а теперя оценим кумулятивную (то есть накапливаемую) дисперсию при учитывании каждой из компонент\n",
    "print(f'Кумулятивная доля дисперсии по компонентам \\n{cum_var_exp}')"
   ]
  },
  {
   "cell_type": "code",
   "execution_count": 6,
   "metadata": {},
   "outputs": [
    {
     "name": "stdout",
     "output_type": "stream",
     "text": [
      "Матрица весов W:\n",
      " [[ 0.52106591 -0.37741762]\n",
      " [-0.26934744 -0.92329566]\n",
      " [ 0.5804131  -0.02449161]\n",
      " [ 0.56485654 -0.06694199]]\n"
     ]
    }
   ],
   "source": [
    "# Сформируем вектор весов из собственных векторов, соответствующих первым двум главным компонентам\n",
    "W = np.hstack((eig_pairs[0][1].reshape(4,1), eig_pairs[1][1].reshape(4,1)))\n",
    "\n",
    "print(f'Матрица весов W:\\n', W)"
   ]
  },
  {
   "cell_type": "code",
   "execution_count": 7,
   "metadata": {},
   "outputs": [],
   "source": [
    "# Сформируем новую матрицу \"объекты-признаки\"\n",
    "Z = X_.dot(W)"
   ]
  },
  {
   "cell_type": "code",
   "execution_count": 8,
   "metadata": {},
   "outputs": [
    {
     "data": {
      "image/png": "[encoded data removed]",
      "text/plain": [
       "<Figure size 432x288 with 1 Axes>"
      ]
     },
     "metadata": {
      "needs_background": "light"
     },
     "output_type": "display_data"
    }
   ],
   "source": [
    "def plot(Z, y):\n",
    "    plt.figure()\n",
    "    for c, i in zip(\"rgb\", [0, 1, 2]):\n",
    "        plt.scatter(Z[y==i, 0], Z[y==i, 1], c=c)\n",
    "    plt.xlabel('Главная компонента 1')\n",
    "    plt.ylabel('Главная компонента 2')\n",
    "    plt.title('PCA датасета IRIS')\n",
    "    plt.show()\n",
    "    \n",
    "plot(Z, iris.target)"
   ]
  },
  {
   "cell_type": "markdown",
   "metadata": {},
   "source": [
    "## ДЗ: "
   ]
  },
  {
   "cell_type": "code",
   "execution_count": 9,
   "metadata": {},
   "outputs": [],
   "source": [
    "X_train, X_test, y_train, y_test = model_selection.train_test_split(X_, iris.target, test_size=0.2, random_state=1)"
   ]
  },
  {
   "cell_type": "code",
   "execution_count": 10,
   "metadata": {},
   "outputs": [],
   "source": [
    "# Задание 1 -  Написать свою реализацию метода главных компонент с помощью сингулярного разложения с использованием функции\n",
    "\n",
    "# svd-разложение, возвращает матрицу подпространства W для кумулятивной доли дисперсии >= min_var \n",
    "def svd_pca(X, min_var):\n",
    "    U, s, W = np.linalg.svd(X_train)\n",
    "    eig_values = s * s\n",
    "    cum_var_values = np.cumsum(eig_values / np.sum(eig_values))\n",
    "    i = np.argmax(cum_var_values >= min_var)\n",
    "    return W.T[:, 0:(i + 1)]\n"
   ]
  },
  {
   "cell_type": "code",
   "execution_count": 11,
   "metadata": {},
   "outputs": [
    {
     "data": {
      "text/plain": [
       "array([[-0.52931569,  0.33308299],\n",
       "       [ 0.23698255,  0.9403434 ],\n",
       "       [-0.58048601,  0.01311446],\n",
       "       [-0.57157691,  0.0681031 ]])"
      ]
     },
     "execution_count": 11,
     "metadata": {},
     "output_type": "execute_result"
    }
   ],
   "source": [
    "W = svd_pca(X_train, 0.95)\n",
    "W"
   ]
  },
  {
   "cell_type": "code",
   "execution_count": 12,
   "metadata": {},
   "outputs": [
    {
     "data": {
      "image/png": "[encoded data removed]",
      "text/plain": [
       "<Figure size 432x288 with 1 Axes>"
      ]
     },
     "metadata": {
      "needs_background": "light"
     },
     "output_type": "display_data"
    }
   ],
   "source": [
    "plot(X_train.dot(W), y_train)"
   ]
  },
  {
   "cell_type": "code",
   "execution_count": 17,
   "metadata": {},
   "outputs": [],
   "source": [
    "# Задание 2 - Обучить любую модель классификации на датасете IRIS до применения PCA и после него. \n",
    "# Сравнить качество классификации по отложенной выборке.\n",
    "\n",
    "from sklearn.ensemble import RandomForestClassifier\n",
    "from sklearn.metrics import balanced_accuracy_score\n",
    "\n",
    "def train_and_test(X_train, y_train, X_test, y_test):\n",
    "    print(\"X_train.shape: \", X_train.shape)\n",
    "    print(\"X_test.shape: \", X_test.shape)\n",
    "    model = RandomForestClassifier()\n",
    "    model.fit(X_train, y_train)\n",
    "    train_predicted = model.predict(X_train)\n",
    "    test_predicted = model.predict(X_test)\n",
    "    train_error = balanced_accuracy_score(y_train, train_predicted)\n",
    "    test_error = balanced_accuracy_score(y_test, test_predicted)\n",
    "    print(f\"Train error: {train_error:0.5}, Test error: {test_error:0.5}\")\n",
    "\n"
   ]
  },
  {
   "cell_type": "code",
   "execution_count": 25,
   "metadata": {},
   "outputs": [
    {
     "name": "stdout",
     "output_type": "stream",
     "text": [
      "X_train.shape:  (120, 4)\n",
      "X_test.shape:  (30, 4)\n",
      "Train error: 1.0, Test error: 0.97436\n",
      "X_train.shape:  (120, 2)\n",
      "X_test.shape:  (30, 2)\n",
      "Train error: 1.0, Test error: 0.97436\n"
     ]
    }
   ],
   "source": [
    "# до PCA:\n",
    "train_and_test(X_train, y_train, X_test, y_test)\n",
    "# после PCA:\n",
    "train_and_test(X_train.dot(W), y_train, X_test.dot(W), y_test)"
   ]
  },
  {
   "cell_type": "markdown",
   "metadata": {},
   "source": [
    "## Выводы:\n",
    "* Мы уже делали похожее задание в курсе линейной алгебры, как раз для ириса. Пришлось только немного доработать код для отбора по кумулятивной дисперсии. SVD-разложение удобно тем, что самое сортирует сингулярные значения, которые являются собственными значениями ковариационной матрицы. \n",
    "* Удалось уменьшить число признаков до 2х из подпространства V без потери точности (иногда случайно неправильно предсказывался один элемент, что приводит к снижению метрики до 0.94)"
   ]
  },
  {
   "cell_type": "code",
   "execution_count": null,
   "metadata": {},
   "outputs": [],
   "source": []
  }
 ],
 "metadata": {
  "kernelspec": {
   "display_name": "Python 3",
   "language": "python",
   "name": "python3"
  },
  "language_info": {
   "codemirror_mode": {
    "name": "ipython",
    "version": 3
   },
   "file_extension": ".py",
   "mimetype": "text/x-python",
   "name": "python",
   "nbconvert_exporter": "python",
   "pygments_lexer": "ipython3",
   "version": "3.7.6"
  }
 },
 "nbformat": 4,
 "nbformat_minor": 4
}
